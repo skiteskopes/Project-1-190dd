{
 "cells": [
  {
   "cell_type": "code",
   "execution_count": 5,
   "metadata": {},
   "outputs": [
    {
     "name": "stdout",
     "output_type": "stream",
     "text": [
      "0.07142857142857142\n"
     ]
    },
    {
     "data": {
      "text/plain": [
       "[<matplotlib.lines.Line2D at 0x229bf96df48>]"
      ]
     },
     "execution_count": 5,
     "metadata": {},
     "output_type": "execute_result"
    },
    {
     "data": {
      "image/png": "[encoded data removed]",
      "text/plain": [
       "<Figure size 432x288 with 1 Axes>"
      ]
     },
     "metadata": {
      "needs_background": "light"
     },
     "output_type": "display_data"
    }
   ],
   "source": [
    "import numpy as np  \n",
    "import random     \n",
    "import copy    \n",
    "\n",
    "import matplotlib.pyplot as plt\n",
    "def genb():  \n",
    "    randomval = []\n",
    "    for i in range (16):\n",
    "        temp = random.random()\n",
    "        randomval.append(temp)\n",
    "    randomval.sort()\n",
    "    numpy_random = np.asarray(randomval)\n",
    "    return np.reshape(numpy_random, (-1, 4))\n",
    "\n",
    "dataset_a = np.load(\"part1a.npz\")  \n",
    "keys = dataset_a.files       \n",
    "Bvc = genb()  \n",
    "\n",
    "Ic = [x for x in dataset_a[\"Ic_0\"]]    \n",
    "Svc = dataset_a[\"Svc_0_pmf\"]     \n",
    "Svcc = dataset_a[\"Svc_0_pmf\"]   \n",
    "for i in range(4):  \n",
    "    for j in range(4):  \n",
    "        Svc[i][j] *= 100000  \n",
    "        Svcc[i][j] *= 100000\n",
    "\n",
    "# declare initial values \n",
    "I = np.sum(Ic)\n",
    "R = 0    \n",
    "S = 100000-I  \n",
    "gamma = dataset_a[\"gamma\"]  \n",
    "\n",
    "\n",
    "\n",
    "Iclist = [[x for x in dataset_a[\"Ic_0\"]]]\n",
    "def getderivativeS(B, S, I):    \n",
    "\n",
    "    return -B*S*I/100000    \n",
    "\n",
    "def getderivativeI(S, Ic): \n",
    "    return -np.sum(S) - gamma* Ic  \n",
    "\n",
    "def getderivativeR(I):  \n",
    "    return I*gamma \n",
    "\n",
    "def createSmatrix(S, I):  \n",
    "    output = [[0,0,0,0],[0,0,0,0],[0,0,0,0],[0,0,0,0]] \n",
    "    for i in range(0,4): \n",
    "        for j in range(0,4):    \n",
    "            output[i][j] = getderivativeS(Bvc[i][j], S[i][j], I)     \n",
    "    return output   \n",
    "\n",
    "def createImatrix(S,Ic):   \n",
    "    output = [0,0,0,0]  \n",
    "    for value in range(len(Ic)):  \n",
    "        output[value] = getderivativeI(S[value],Ic[value])  \n",
    "    return output  \n",
    "Slist = []  \n",
    "Ilist = [] \n",
    "Rlist = [] \n",
    "for i in range(120):   \n",
    "    svcchange = createSmatrix(Svc,I) #here I create my Svc change matrix    \n",
    "    icchange = createImatrix(svcchange,Ic) # here I create my Ic change matrix   \n",
    "    rchange = gamma * I \n",
    "    for i in range(0,4):  \n",
    "        for j in range(0,4):  \n",
    "            Svc[i][j] += svcchange[i][j]    \n",
    "   \n",
    "    for i in range(0,4):  \n",
    "        Ic[i] += icchange[i]   \n",
    "       \n",
    "    I = np.sum(Ic)  \n",
    "    R += rchange     \n",
    "    S += np.sum(svcchange)   \n",
    "    Slist.append(S)  \n",
    "    Ilist.append(I) \n",
    "    Rlist.append(R)   \n",
    "xaxis = np.linspace(1,120,num=120) \n",
    "\n",
    "plt.plot(xaxis,Slist)  \n",
    "plt.plot(xaxis,Rlist) \n",
    "plt.plot(xaxis,Ilist)   \n"
   ]
  },
  {
   "cell_type": "code",
   "execution_count": 151,
   "metadata": {},
   "outputs": [
    {
     "name": "stdout",
     "output_type": "stream",
     "text": [
      "[[6.43432971e+02 1.92549470e+02 1.37016209e+02 1.77259355e+02]\n",
      " [1.53931555e+01 3.94247924e+01 1.54802233e+01 9.14956192e+00]\n",
      " [4.91372162e+00 4.22194045e-02 7.89070966e-02 2.40435546e-02]\n",
      " [4.85477524e-03 6.38710586e-04 6.15608787e-04 3.28793378e-05]]\n",
      "[[0.5874324890077421, 0.5833460774769131, 0.16752104933772255, 0.152888951180555], [0.04982003407889871, 0.04631675464531126, 0.03418200411689686, 0.01600054185306147], [0.006576650882170016, 0.00016917248006799616, 7.708331378615467e-05, 5.648408312458442e-05], [3.0231556212056186e-05, 7.875973225610598e-07, 6.721932374369702e-07, 4.1619473536535e-07]]\n"
     ]
    }
   ],
   "source": [
    "print(Svc)   \n",
    "percentages = [[0,0,0,0],[0,0,0,0],[0,0,0,0],[0,0,0,0]] \n",
    "for i in range(4): \n",
    "    for j in range(4):  \n",
    "        percentages[i][j] = Svc[i][j]/Svcc[i][j]\n",
    "print(percentages)"
   ]
  },
  {
   "cell_type": "code",
   "execution_count": null,
   "metadata": {},
   "outputs": [],
   "source": []
  },
  {
   "cell_type": "code",
   "execution_count": null,
   "metadata": {},
   "outputs": [],
   "source": []
  }
 ],
 "metadata": {
  "kernelspec": {
   "display_name": "Python 3",
   "language": "python",
   "name": "python3"
  },
  "language_info": {
   "codemirror_mode": {
    "name": "ipython",
    "version": 3
   },
   "file_extension": ".py",
   "mimetype": "text/x-python",
   "name": "python",
   "nbconvert_exporter": "python",
   "pygments_lexer": "ipython3",
   "version": "3.7.4"
  }
 },
 "nbformat": 4,
 "nbformat_minor": 4
}
